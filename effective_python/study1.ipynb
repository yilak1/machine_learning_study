{
 "cells": [
  {
   "cell_type": "code",
   "execution_count": 1,
   "metadata": {
    "collapsed": true
   },
   "outputs": [
    {
     "name": "stdout",
     "output_type": "stream",
     "text": [
      "No Python documentation found for 'instance'.\nUse help() to get the interactive help utility.\nUse help(str) for help on the str class.\n\n"
     ]
    }
   ],
   "source": [
    "help('instance')"
   ]
  },
  {
   "cell_type": "code",
   "execution_count": 2,
   "metadata": {},
   "outputs": [
    {
     "name": "stdout",
     "output_type": "stream",
     "text": [
      "Help on built-in function isinstance in module builtins:\n\nisinstance(obj, class_or_tuple, /)\n    Return whether an object is an instance of a class or of a subclass thereof.\n    \n    A tuple, as in ``isinstance(x, (A, B, ...))``, may be given as the target to\n    check against. This is equivalent to ``isinstance(x, A) or isinstance(x, B)\n    or ...`` etc.\n\n"
     ]
    }
   ],
   "source": [
    "help('isinstance')"
   ]
  },
  {
   "cell_type": "code",
   "execution_count": null,
   "metadata": {},
   "outputs": [],
   "source": []
  }
 ],
 "metadata": {
  "kernelspec": {
   "display_name": "Python 2",
   "language": "python",
   "name": "python2"
  },
  "language_info": {
   "codemirror_mode": {
    "name": "ipython",
    "version": 2
   },
   "file_extension": ".py",
   "mimetype": "text/x-python",
   "name": "python",
   "nbconvert_exporter": "python",
   "pygments_lexer": "ipython2",
   "version": "2.7.6"
  }
 },
 "nbformat": 4,
 "nbformat_minor": 0
}
