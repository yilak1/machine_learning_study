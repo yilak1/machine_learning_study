{
 "cells": [
  {
   "cell_type": "markdown",
   "metadata": {
    "collapsed": true
   },
   "source": [
    "* 最值归一化 适用于有明显分布的边界的情况，缺点：如果边界域过大，则不适用于该方法\n",
    "* 均值方差归一化 strandardizatioin.把所有数据归一化到均值为0方差为1的分布中。数据分布无明显分布情况，或者极端值情况（建议使用这种归一化）x-u/s"
   ]
  },
  {
   "cell_type": "code",
   "execution_count": 1,
   "metadata": {},
   "outputs": [],
   "source": [
    "## 最值归一化"
   ]
  },
  {
   "cell_type": "code",
   "execution_count": 2,
   "metadata": {},
   "outputs": [],
   "source": [
    "import numpy as np"
   ]
  },
  {
   "cell_type": "code",
   "execution_count": 3,
   "metadata": {},
   "outputs": [],
   "source": [
    "x = np.random.randint(0, 100, size=100)"
   ]
  },
  {
   "cell_type": "code",
   "execution_count": 4,
   "metadata": {},
   "outputs": [
    {
     "data": {
      "text/plain": [
       "array([0.375     , 0.72916667, 0.21875   , 1.        , 0.42708333,\n       0.05208333, 0.76041667, 0.72916667, 0.47916667, 0.69791667,\n       0.84375   , 0.69791667, 0.17708333, 0.72916667, 0.0625    ,\n       0.1875    , 0.35416667, 0.41666667, 0.72916667, 0.25      ,\n       0.36458333, 0.55208333, 0.54166667, 0.36458333, 0.875     ,\n       0.25      , 0.52083333, 0.39583333, 0.36458333, 0.21875   ,\n       0.32291667, 0.90625   , 0.53125   , 0.47916667, 0.58333333,\n       0.32291667, 0.09375   , 0.80208333, 0.09375   , 0.40625   ,\n       0.63541667, 0.01041667, 0.44791667, 0.55208333, 0.28125   ,\n       0.0625    , 0.27083333, 0.51041667, 0.57291667, 0.44791667,\n       0.29166667, 0.46875   , 0.35416667, 0.02083333, 0.21875   ,\n       0.11458333, 0.75      , 0.28125   , 1.        , 0.84375   ,\n       0.375     , 0.66666667, 0.        , 0.91666667, 0.72916667,\n       0.30208333, 0.47916667, 1.        , 0.26041667, 0.17708333,\n       0.04166667, 0.45833333, 0.69791667, 0.875     , 0.11458333,\n       0.89583333, 0.16666667, 0.70833333, 0.38541667, 0.65625   ,\n       0.66666667, 0.27083333, 0.63541667, 0.21875   , 0.375     ,\n       0.76041667, 0.        , 0.8125    , 0.45833333, 0.01041667,\n       0.375     , 0.32291667, 0.19791667, 0.96875   , 0.5625    ,\n       0.26041667, 0.94791667, 0.375     , 0.0625    , 0.0625    ])"
      ]
     },
     "execution_count": 4,
     "metadata": {},
     "output_type": "execute_result"
    }
   ],
   "source": [
    "(x - np.min(x))/(np.max(x) - np.min(x))"
   ]
  },
  {
   "cell_type": "code",
   "execution_count": 5,
   "metadata": {},
   "outputs": [],
   "source": [
    "x = np.random.randint(0, 100, size=(50, 2))"
   ]
  },
  {
   "cell_type": "code",
   "execution_count": 6,
   "metadata": {},
   "outputs": [],
   "source": [
    "x =np.array(x, dtype='float')"
   ]
  },
  {
   "cell_type": "code",
   "execution_count": 8,
   "metadata": {},
   "outputs": [],
   "source": [
    "x[:, 0] = (x[:, 0] - np.min(x[:, 0]))/(np.max(x[:, 0]) - np.min(x[:, 0]))"
   ]
  },
  {
   "cell_type": "code",
   "execution_count": 9,
   "metadata": {},
   "outputs": [],
   "source": [
    "x[:, 1] = (x[:, 1] - np.min(x[:, 1]))/(np.max(x[:, 1]) - np.min(x[:, 1]))"
   ]
  },
  {
   "cell_type": "code",
   "execution_count": 10,
   "metadata": {},
   "outputs": [
    {
     "data": {
      "text/plain": [
       "array([[0.49494949, 0.26315789],\n       [0.52525253, 0.64210526],\n       [0.33333333, 0.94736842],\n       [0.3030303 , 0.77894737],\n       [0.87878788, 0.72631579],\n       [0.95959596, 0.05263158],\n       [0.37373737, 0.65263158],\n       [0.28282828, 0.26315789],\n       [0.72727273, 0.48421053],\n       [0.18181818, 0.06315789]])"
      ]
     },
     "execution_count": 10,
     "metadata": {},
     "output_type": "execute_result"
    }
   ],
   "source": [
    "x[:10, :]"
   ]
  },
  {
   "cell_type": "code",
   "execution_count": 13,
   "metadata": {},
   "outputs": [
    {
     "data": {
      "text/plain": [
       "0.49434343434343425"
      ]
     },
     "execution_count": 13,
     "metadata": {},
     "output_type": "execute_result"
    }
   ],
   "source": [
    "np.mean(x[:, 0])"
   ]
  },
  {
   "cell_type": "code",
   "execution_count": 14,
   "metadata": {},
   "outputs": [
    {
     "data": {
      "text/plain": [
       "0.48021052631578953"
      ]
     },
     "execution_count": 14,
     "metadata": {},
     "output_type": "execute_result"
    }
   ],
   "source": [
    "np.mean(x[:, 1])"
   ]
  },
  {
   "cell_type": "code",
   "execution_count": 15,
   "metadata": {},
   "outputs": [
    {
     "data": {
      "text/plain": [
       "0.264078424998211"
      ]
     },
     "execution_count": 15,
     "metadata": {},
     "output_type": "execute_result"
    }
   ],
   "source": [
    "np.std(x[:, 0])"
   ]
  },
  {
   "cell_type": "code",
   "execution_count": 16,
   "metadata": {},
   "outputs": [
    {
     "data": {
      "text/plain": [
       "0.27671912417505684"
      ]
     },
     "execution_count": 16,
     "metadata": {},
     "output_type": "execute_result"
    }
   ],
   "source": [
    "np.std(x[:, 1])"
   ]
  },
  {
   "cell_type": "markdown",
   "metadata": {},
   "source": [
    "## 均值方差归一化"
   ]
  },
  {
   "cell_type": "code",
   "execution_count": 17,
   "metadata": {},
   "outputs": [],
   "source": [
    "x2 = np.random.randint(0, 100, size=(50, 2))"
   ]
  },
  {
   "cell_type": "code",
   "execution_count": 18,
   "metadata": {},
   "outputs": [],
   "source": [
    "x2 = np.array(x2, dtype='float')"
   ]
  },
  {
   "cell_type": "code",
   "execution_count": 20,
   "metadata": {},
   "outputs": [],
   "source": [
    "x2[:, 0] = (x2[:, 0] - np.mean(x2[:, 0]))/np.std(x2[:, 0])"
   ]
  },
  {
   "cell_type": "code",
   "execution_count": 21,
   "metadata": {},
   "outputs": [],
   "source": [
    "x2[:, 1] = (x2[:, 1] - np.mean(x2[:, 1]))/np.std(x2[:, 1])"
   ]
  },
  {
   "cell_type": "code",
   "execution_count": 22,
   "metadata": {},
   "outputs": [],
   "source": [
    "import matplotlib.pyplot as plt"
   ]
  },
  {
   "cell_type": "code",
   "execution_count": 24,
   "metadata": {},
   "outputs": [
    {
     "data": {
      "text/plain": [
       "(50, 2)"
      ]
     },
     "execution_count": 24,
     "metadata": {},
     "output_type": "execute_result"
    }
   ],
   "source": [
    "x2.shape"
   ]
  },
  {
   "cell_type": "code",
   "execution_count": 26,
   "metadata": {},
   "outputs": [
    {
     "data": {
      "text/plain": [
       "<matplotlib.collections.PathCollection at 0x7fc8b5e7f5f8>"
      ]
     },
     "execution_count": 26,
     "metadata": {},
     "output_type": "execute_result"
    },
    {
     "data": {
      "image/png": "[encoded data removed]",
      "text/plain": [
       "<matplotlib.figure.Figure at 0x7fc8b5f6d5c0>"
      ]
     },
     "metadata": {},
     "output_type": "display_data"
    }
   ],
   "source": [
    "plt.scatter(x2[:, 0], x2[:, 1])"
   ]
  },
  {
   "cell_type": "code",
   "execution_count": 28,
   "metadata": {},
   "outputs": [
    {
     "data": {
      "text/plain": [
       "7.549516567451065e-17"
      ]
     },
     "execution_count": 28,
     "metadata": {},
     "output_type": "execute_result"
    }
   ],
   "source": [
    "np.mean(x2[:, 0])"
   ]
  },
  {
   "cell_type": "code",
   "execution_count": 29,
   "metadata": {},
   "outputs": [
    {
     "data": {
      "text/plain": [
       "1.0"
      ]
     },
     "execution_count": 29,
     "metadata": {},
     "output_type": "execute_result"
    }
   ],
   "source": [
    "np.std(x2[:, 0])"
   ]
  },
  {
   "cell_type": "code",
   "execution_count": 30,
   "metadata": {},
   "outputs": [
    {
     "data": {
      "text/plain": [
       "1.0"
      ]
     },
     "execution_count": 30,
     "metadata": {},
     "output_type": "execute_result"
    }
   ],
   "source": [
    "np.std(x2[:, 1])"
   ]
  },
  {
   "cell_type": "markdown",
   "metadata": {},
   "source": [
    "# 测试数据集归一化"
   ]
  },
  {
   "cell_type": "markdown",
   "metadata": {},
   "source": [
    "(x_test - mean_train)/std_train 而不是 (x_test - mean_test)/std_test\n",
    "因为测试数据是模拟真实环境，真实环境很可能无法得到所有测试数据的均值和方差"
   ]
  },
  {
   "cell_type": "markdown",
   "metadata": {},
   "source": [
    "保存训练数据集的方差和均值的方法为sklearn 中的scale"
   ]
  },
  {
   "cell_type": "markdown",
   "metadata": {},
   "source": [
    "* 注：如果训练数据归一化，则测试数据也一定要归一化"
   ]
  },
  {
   "cell_type": "code",
   "execution_count": 33,
   "metadata": {},
   "outputs": [],
   "source": [
    "import numpy as np\n",
    "from sklearn import datasets"
   ]
  },
  {
   "cell_type": "code",
   "execution_count": 34,
   "metadata": {},
   "outputs": [],
   "source": [
    "iris = datasets.load_iris()"
   ]
  },
  {
   "cell_type": "code",
   "execution_count": 35,
   "metadata": {},
   "outputs": [],
   "source": [
    "x = iris.data\n",
    "y = iris.target"
   ]
  },
  {
   "cell_type": "code",
   "execution_count": 36,
   "metadata": {},
   "outputs": [],
   "source": [
    "from  sklearn.model_selection import train_test_split"
   ]
  },
  {
   "cell_type": "code",
   "execution_count": 37,
   "metadata": {},
   "outputs": [],
   "source": [
    "x_train, x_test, y_train, y_test = train_test_split(x, y, test_size=0.2, random_state=666, stratify=y)"
   ]
  },
  {
   "cell_type": "markdown",
   "metadata": {},
   "source": [
    "## scikit-lean 中的standardScaler\n",
    "其他方法 还有MinMaxScaler"
   ]
  },
  {
   "cell_type": "code",
   "execution_count": 39,
   "metadata": {},
   "outputs": [],
   "source": [
    "from sklearn.preprocessing import StandardScaler"
   ]
  },
  {
   "cell_type": "code",
   "execution_count": 40,
   "metadata": {},
   "outputs": [],
   "source": [
    "standartScaler = StandardScaler()"
   ]
  },
  {
   "cell_type": "code",
   "execution_count": 42,
   "metadata": {},
   "outputs": [
    {
     "data": {
      "text/plain": [
       "StandardScaler(copy=True, with_mean=True, with_std=True)"
      ]
     },
     "execution_count": 42,
     "metadata": {},
     "output_type": "execute_result"
    }
   ],
   "source": [
    "standartScaler.fit(x_train)"
   ]
  },
  {
   "cell_type": "code",
   "execution_count": 43,
   "metadata": {},
   "outputs": [
    {
     "data": {
      "text/plain": [
       "array([5.855     , 3.05666667, 3.7525    , 1.18916667])"
      ]
     },
     "execution_count": 43,
     "metadata": {},
     "output_type": "execute_result"
    }
   ],
   "source": [
    "standartScaler.mean_"
   ]
  },
  {
   "cell_type": "markdown",
   "metadata": {},
   "source": [
    "scale_得到方差向量"
   ]
  },
  {
   "cell_type": "code",
   "execution_count": 46,
   "metadata": {},
   "outputs": [
    {
     "data": {
      "text/plain": [
       "array([0.83104853, 0.44958005, 1.77007356, 0.7621019 ])"
      ]
     },
     "execution_count": 46,
     "metadata": {},
     "output_type": "execute_result"
    }
   ],
   "source": [
    "standartScaler.scale_"
   ]
  },
  {
   "cell_type": "code",
   "execution_count": 47,
   "metadata": {},
   "outputs": [
    {
     "data": {
      "text/plain": [
       "array([[-0.06618145, -0.79333295,  0.08332987,  0.01421507],\n       [ 0.05414846,  0.31881604,  0.59178331,  0.80151136],\n       [-0.06618145, -0.57090315,  0.7612678 ,  1.58880766],\n       [-0.4271712 , -1.23819254,  0.1398247 ,  0.14543112],\n       [ 0.65579804,  0.09638625,  0.9872471 ,  0.80151136],\n       [-0.18651137, -0.12604355,  0.25281435,  0.01421507],\n       [-1.02882078,  0.76367564, -1.27254598, -1.29794542],\n       [-1.63047036, -1.68305214, -1.38553564, -1.16672937],\n       [ 0.29480829, -0.12604355,  0.64827814,  0.80151136],\n       [-1.02882078,  0.54124584, -1.32904081, -1.29794542],\n       [-0.90849086,  0.98610544, -1.32904081, -1.16672937],\n       [ 1.01678779,  0.09638625,  0.53528849,  0.40786322],\n       [-0.06618145, -1.01576275,  0.1398247 ,  0.01421507],\n       [-0.06618145,  2.09825443, -1.44203046, -1.29794542],\n       [ 0.77612796, -0.12604355,  1.15673159,  1.32637556],\n       [-0.54750112,  1.87582463, -1.15955633, -1.03551332],\n       [-0.06618145, -0.79333295,  0.7612678 ,  0.93272741],\n       [ 1.01678779,  0.09638625,  1.04374193,  1.58880766],\n       [-0.18651137, -1.23819254,  0.70477297,  1.06394346],\n       [-1.51014044,  1.20853524, -1.55502012, -1.29794542],\n       [ 0.05414846, -0.12604355,  0.7612678 ,  0.80151136],\n       [ 0.41513821, -1.90548194,  0.42229883,  0.40786322],\n       [-1.02882078, -0.12604355, -1.21605115, -1.29794542],\n       [-0.30684128, -0.34847335, -0.08615461,  0.14543112],\n       [ 0.29480829, -1.01576275,  1.04374193,  0.27664717],\n       [-0.54750112,  0.76367564, -1.27254598, -1.03551332],\n       [ 1.61843736, -0.12604355,  1.15673159,  0.53907927],\n       [-0.18651137,  1.65339483, -1.15955633, -1.16672937],\n       [-1.14915069, -0.12604355, -1.32904081, -1.29794542],\n       [-1.02882078, -2.35034153, -0.14264944, -0.24821703],\n       [ 2.46074677,  1.65339483,  1.49570055,  1.06394346],\n       [-0.4271712 , -1.01576275,  0.36580401,  0.01421507],\n       [ 0.89645787, -0.12604355,  0.36580401,  0.27664717],\n       [ 0.53546812,  0.54124584,  1.26972124,  1.72002371],\n       [-1.38981052,  0.31881604, -1.21605115, -1.29794542],\n       [-0.78816095,  2.32068423, -1.27254598, -1.42916146],\n       [ 0.65579804, -0.57090315,  1.04374193,  1.32637556],\n       [-0.90849086,  1.65339483, -1.27254598, -1.16672937],\n       [ 2.22008694, -0.57090315,  1.66518503,  1.06394346],\n       [-0.4271712 , -1.46062234, -0.02965978, -0.24821703],\n       [ 1.01678779,  0.54124584,  1.10023676,  1.72002371],\n       [-0.90849086,  0.54124584, -1.15955633, -0.90429727],\n       [-1.51014044,  0.09638625, -1.27254598, -1.29794542],\n       [ 0.17447838, -0.12604355,  0.59178331,  0.80151136],\n       [ 1.61843736,  1.20853524,  1.32621607,  1.72002371],\n       [ 1.8590972 , -0.57090315,  1.32621607,  0.93272741],\n       [-0.06618145, -0.79333295,  0.19631952, -0.24821703],\n       [-1.26948061, -0.12604355, -1.32904081, -1.42916146],\n       [ 0.41513821, -0.57090315,  0.59178331,  0.80151136],\n       [-0.90849086,  1.43096503, -1.27254598, -1.03551332],\n       [-0.54750112,  0.76367564, -1.15955633, -1.29794542],\n       [ 2.22008694, -0.12604355,  1.32621607,  1.45759161],\n       [-0.90849086, -1.23819254, -0.42512357, -0.11700098],\n       [ 0.53546812, -0.34847335,  1.04374193,  0.80151136],\n       [ 0.53546812,  0.76367564,  1.04374193,  1.58880766],\n       [-1.02882078,  0.76367564, -1.21605115, -1.03551332],\n       [ 0.65579804,  0.31881604,  0.42229883,  0.40786322],\n       [-0.4271712 , -1.68305214,  0.1398247 ,  0.14543112],\n       [-1.87113019, -0.12604355, -1.49852529, -1.42916146],\n       [ 0.77612796, -0.57090315,  0.47879366,  0.40786322],\n       [ 1.25744762,  0.09638625,  0.64827814,  0.40786322],\n       [ 0.53546812,  0.54124584,  0.53528849,  0.53907927],\n       [ 1.1371177 , -0.12604355,  0.9872471 ,  1.19515951],\n       [ 0.41513821, -0.34847335,  0.30930918,  0.14543112],\n       [ 1.61843736,  0.31881604,  1.26972124,  0.80151136],\n       [-0.66783103,  1.43096503, -1.27254598, -1.29794542],\n       [-0.54750112,  1.87582463, -1.38553564, -1.03551332],\n       [ 0.17447838, -0.34847335,  0.42229883,  0.40786322],\n       [ 0.41513821,  0.76367564,  0.93075228,  1.45759161],\n       [-0.90849086,  0.76367564, -1.27254598, -1.29794542],\n       [-1.02882078,  1.20853524, -1.32904081, -1.29794542],\n       [-0.06618145, -0.79333295,  0.7612678 ,  0.93272741],\n       [ 1.25744762,  0.09638625,  0.7612678 ,  1.45759161],\n       [ 0.29480829, -0.34847335,  0.53528849,  0.27664717],\n       [ 1.73876728, -0.34847335,  1.43920572,  0.80151136],\n       [ 0.29480829, -0.12604355,  0.47879366,  0.27664717],\n       [ 0.05414846, -0.12604355,  0.25281435,  0.40786322],\n       [-1.75080027,  0.31881604, -1.38553564, -1.29794542],\n       [-1.75080027, -0.34847335, -1.32904081, -1.29794542],\n       [-1.26948061,  0.76367564, -1.04656667, -1.29794542],\n       [ 0.29480829, -0.57090315,  0.1398247 ,  0.14543112],\n       [ 0.17447838, -0.79333295,  0.7612678 ,  0.53907927],\n       [ 0.29480829, -0.57090315,  0.53528849,  0.01421507],\n       [-1.02882078,  0.31881604, -1.44203046, -1.29794542],\n       [ 1.49810745, -0.12604355,  1.21322641,  1.19515951],\n       [ 0.17447838, -1.90548194,  0.1398247 , -0.24821703],\n       [ 0.17447838, -1.90548194,  0.70477297,  0.40786322],\n       [ 0.17447838,  0.76367564,  0.42229883,  0.53907927],\n       [-1.02882078,  0.98610544, -1.38553564, -1.16672937],\n       [-1.02882078, -1.68305214, -0.25563909, -0.24821703],\n       [ 1.25744762,  0.09638625,  0.93075228,  1.19515951],\n       [-0.18651137,  2.98797362, -1.27254598, -1.03551332],\n       [-0.90849086,  0.98610544, -1.32904081, -1.29794542],\n       [ 0.53546812, -1.68305214,  0.36580401,  0.14543112],\n       [-0.30684128, -0.57090315,  0.64827814,  1.06394346],\n       [-1.51014044,  0.31881604, -1.32904081, -1.29794542],\n       [-0.54750112,  1.43096503, -1.27254598, -1.29794542],\n       [-0.78816095,  0.76367564, -1.32904081, -1.29794542],\n       [-1.26948061,  0.76367564, -1.21605115, -1.29794542],\n       [ 1.1371177 , -0.57090315,  0.59178331,  0.27664717],\n       [-1.14915069, -1.46062234, -0.25563909, -0.24821703],\n       [ 0.65579804, -0.79333295,  0.87425745,  0.93272741],\n       [-1.75080027, -0.12604355, -1.38553564, -1.29794542],\n       [-0.4271712 , -1.46062234,  0.02683504, -0.11700098],\n       [ 1.01678779,  0.54124584,  1.10023676,  1.19515951],\n       [ 0.89645787, -0.34847335,  0.47879366,  0.14543112],\n       [-0.18651137, -1.01576275, -0.14264944, -0.24821703],\n       [ 0.77612796, -0.12604355,  0.9872471 ,  0.80151136],\n       [ 0.53546812, -0.79333295,  0.64827814,  0.80151136],\n       [ 2.22008694, -1.01576275,  1.77817469,  1.45759161],\n       [ 1.37777753,  0.31881604,  0.53528849,  0.27664717],\n       [-0.78816095, -0.79333295,  0.08332987,  0.27664717],\n       [-0.18651137, -0.57090315,  0.42229883,  0.14543112],\n       [-1.14915069,  0.09638625, -1.27254598, -1.42916146],\n       [ 0.65579804, -0.34847335,  0.30930918,  0.14543112],\n       [-1.14915069,  0.09638625, -1.27254598, -1.42916146],\n       [-0.4271712 ,  2.54311403, -1.32904081, -1.29794542],\n       [ 0.65579804,  0.31881604,  0.87425745,  1.45759161],\n       [ 0.53546812, -0.57090315,  0.7612678 ,  0.40786322],\n       [ 2.22008694,  1.65339483,  1.66518503,  1.32637556]])"
      ]
     },
     "execution_count": 47,
     "metadata": {},
     "output_type": "execute_result"
    }
   ],
   "source": [
    "standartScaler.transform(x_train)"
   ]
  },
  {
   "cell_type": "code",
   "execution_count": 48,
   "metadata": {},
   "outputs": [
    {
     "data": {
      "text/plain": [
       "array([[5.8, 2.7, 3.9, 1.2],\n       [5.9, 3.2, 4.8, 1.8],\n       [5.8, 2.8, 5.1, 2.4],\n       [5.5, 2.5, 4. , 1.3],\n       [6.4, 3.1, 5.5, 1.8],\n       [5.7, 3. , 4.2, 1.2],\n       [5. , 3.4, 1.5, 0.2],\n       [4.5, 2.3, 1.3, 0.3],\n       [6.1, 3. , 4.9, 1.8],\n       [5. , 3.3, 1.4, 0.2],\n       [5.1, 3.5, 1.4, 0.3],\n       [6.7, 3.1, 4.7, 1.5],\n       [5.8, 2.6, 4. , 1.2],\n       [5.8, 4. , 1.2, 0.2],\n       [6.5, 3. , 5.8, 2.2],\n       [5.4, 3.9, 1.7, 0.4],\n       [5.8, 2.7, 5.1, 1.9],\n       [6.7, 3.1, 5.6, 2.4],\n       [5.7, 2.5, 5. , 2. ],\n       [4.6, 3.6, 1. , 0.2],\n       [5.9, 3. , 5.1, 1.8],\n       [6.2, 2.2, 4.5, 1.5],\n       [5. , 3. , 1.6, 0.2],\n       [5.6, 2.9, 3.6, 1.3],\n       [6.1, 2.6, 5.6, 1.4],\n       [5.4, 3.4, 1.5, 0.4],\n       [7.2, 3. , 5.8, 1.6],\n       [5.7, 3.8, 1.7, 0.3],\n       [4.9, 3. , 1.4, 0.2],\n       [5. , 2. , 3.5, 1. ],\n       [7.9, 3.8, 6.4, 2. ],\n       [5.5, 2.6, 4.4, 1.2],\n       [6.6, 3. , 4.4, 1.4],\n       [6.3, 3.3, 6. , 2.5],\n       [4.7, 3.2, 1.6, 0.2],\n       [5.2, 4.1, 1.5, 0.1],\n       [6.4, 2.8, 5.6, 2.2],\n       [5.1, 3.8, 1.5, 0.3],\n       [7.7, 2.8, 6.7, 2. ],\n       [5.5, 2.4, 3.7, 1. ],\n       [6.7, 3.3, 5.7, 2.5],\n       [5.1, 3.3, 1.7, 0.5],\n       [4.6, 3.1, 1.5, 0.2],\n       [6. , 3. , 4.8, 1.8],\n       [7.2, 3.6, 6.1, 2.5],\n       [7.4, 2.8, 6.1, 1.9],\n       [5.8, 2.7, 4.1, 1. ],\n       [4.8, 3. , 1.4, 0.1],\n       [6.2, 2.8, 4.8, 1.8],\n       [5.1, 3.7, 1.5, 0.4],\n       [5.4, 3.4, 1.7, 0.2],\n       [7.7, 3. , 6.1, 2.3],\n       [5.1, 2.5, 3. , 1.1],\n       [6.3, 2.9, 5.6, 1.8],\n       [6.3, 3.4, 5.6, 2.4],\n       [5. , 3.4, 1.6, 0.4],\n       [6.4, 3.2, 4.5, 1.5],\n       [5.5, 2.3, 4. , 1.3],\n       [4.3, 3. , 1.1, 0.1],\n       [6.5, 2.8, 4.6, 1.5],\n       [6.9, 3.1, 4.9, 1.5],\n       [6.3, 3.3, 4.7, 1.6],\n       [6.8, 3. , 5.5, 2.1],\n       [6.2, 2.9, 4.3, 1.3],\n       [7.2, 3.2, 6. , 1.8],\n       [5.3, 3.7, 1.5, 0.2],\n       [5.4, 3.9, 1.3, 0.4],\n       [6. , 2.9, 4.5, 1.5],\n       [6.2, 3.4, 5.4, 2.3],\n       [5.1, 3.4, 1.5, 0.2],\n       [5. , 3.6, 1.4, 0.2],\n       [5.8, 2.7, 5.1, 1.9],\n       [6.9, 3.1, 5.1, 2.3],\n       [6.1, 2.9, 4.7, 1.4],\n       [7.3, 2.9, 6.3, 1.8],\n       [6.1, 3. , 4.6, 1.4],\n       [5.9, 3. , 4.2, 1.5],\n       [4.4, 3.2, 1.3, 0.2],\n       [4.4, 2.9, 1.4, 0.2],\n       [4.8, 3.4, 1.9, 0.2],\n       [6.1, 2.8, 4. , 1.3],\n       [6. , 2.7, 5.1, 1.6],\n       [6.1, 2.8, 4.7, 1.2],\n       [5. , 3.2, 1.2, 0.2],\n       [7.1, 3. , 5.9, 2.1],\n       [6. , 2.2, 4. , 1. ],\n       [6. , 2.2, 5. , 1.5],\n       [6. , 3.4, 4.5, 1.6],\n       [5. , 3.5, 1.3, 0.3],\n       [5. , 2.3, 3.3, 1. ],\n       [6.9, 3.1, 5.4, 2.1],\n       [5.7, 4.4, 1.5, 0.4],\n       [5.1, 3.5, 1.4, 0.2],\n       [6.3, 2.3, 4.4, 1.3],\n       [5.6, 2.8, 4.9, 2. ],\n       [4.6, 3.2, 1.4, 0.2],\n       [5.4, 3.7, 1.5, 0.2],\n       [5.2, 3.4, 1.4, 0.2],\n       [4.8, 3.4, 1.6, 0.2],\n       [6.8, 2.8, 4.8, 1.4],\n       [4.9, 2.4, 3.3, 1. ],\n       [6.4, 2.7, 5.3, 1.9],\n       [4.4, 3. , 1.3, 0.2],\n       [5.5, 2.4, 3.8, 1.1],\n       [6.7, 3.3, 5.7, 2.1],\n       [6.6, 2.9, 4.6, 1.3],\n       [5.7, 2.6, 3.5, 1. ],\n       [6.5, 3. , 5.5, 1.8],\n       [6.3, 2.7, 4.9, 1.8],\n       [7.7, 2.6, 6.9, 2.3],\n       [7. , 3.2, 4.7, 1.4],\n       [5.2, 2.7, 3.9, 1.4],\n       [5.7, 2.8, 4.5, 1.3],\n       [4.9, 3.1, 1.5, 0.1],\n       [6.4, 2.9, 4.3, 1.3],\n       [4.9, 3.1, 1.5, 0.1],\n       [5.5, 4.2, 1.4, 0.2],\n       [6.4, 3.2, 5.3, 2.3],\n       [6.3, 2.8, 5.1, 1.5],\n       [7.7, 3.8, 6.7, 2.2]])"
      ]
     },
     "execution_count": 48,
     "metadata": {},
     "output_type": "execute_result"
    }
   ],
   "source": [
    "x_train"
   ]
  },
  {
   "cell_type": "code",
   "execution_count": 49,
   "metadata": {},
   "outputs": [],
   "source": [
    "x_train = standartScaler.transform(x_train)"
   ]
  },
  {
   "cell_type": "code",
   "execution_count": 50,
   "metadata": {},
   "outputs": [],
   "source": [
    "x_test_standard = standartScaler.transform(x_test)"
   ]
  },
  {
   "cell_type": "code",
   "execution_count": 51,
   "metadata": {},
   "outputs": [],
   "source": [
    "from sklearn.neighbors import KNeighborsClassifier"
   ]
  },
  {
   "cell_type": "code",
   "execution_count": 52,
   "metadata": {},
   "outputs": [],
   "source": [
    "knn_clf = KNeighborsClassifier(n_neighbors=3)"
   ]
  },
  {
   "cell_type": "code",
   "execution_count": 53,
   "metadata": {},
   "outputs": [
    {
     "data": {
      "text/plain": [
       "KNeighborsClassifier(algorithm='auto', leaf_size=30, metric='minkowski',\n           metric_params=None, n_jobs=1, n_neighbors=3, p=2,\n           weights='uniform')"
      ]
     },
     "execution_count": 53,
     "metadata": {},
     "output_type": "execute_result"
    }
   ],
   "source": [
    "knn_clf.fit(x_train, y_train)"
   ]
  },
  {
   "cell_type": "code",
   "execution_count": 54,
   "metadata": {},
   "outputs": [
    {
     "data": {
      "text/plain": [
       "0.9333333333333333"
      ]
     },
     "execution_count": 54,
     "metadata": {},
     "output_type": "execute_result"
    }
   ],
   "source": [
    "knn_clf.score(x_test_standard, y_test)"
   ]
  },
  {
   "cell_type": "code",
   "execution_count": 55,
   "metadata": {},
   "outputs": [
    {
     "data": {
      "text/plain": [
       "0.3333333333333333"
      ]
     },
     "execution_count": 55,
     "metadata": {},
     "output_type": "execute_result"
    }
   ],
   "source": [
    "knn_clf.score(x_test, y_test)"
   ]
  },
  {
   "cell_type": "code",
   "execution_count": null,
   "metadata": {},
   "outputs": [],
   "source": []
  }
 ],
 "metadata": {
  "kernelspec": {
   "display_name": "Python 2",
   "language": "python",
   "name": "python2"
  },
  "language_info": {
   "codemirror_mode": {
    "name": "ipython",
    "version": 2
   },
   "file_extension": ".py",
   "mimetype": "text/x-python",
   "name": "python",
   "nbconvert_exporter": "python",
   "pygments_lexer": "ipython2",
   "version": "2.7.6"
  }
 },
 "nbformat": 4,
 "nbformat_minor": 0
}
