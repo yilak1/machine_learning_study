{
 "cells": [
  {
   "cell_type": "markdown",
   "metadata": {
    "collapsed": true
   },
   "source": [
    "#测试算法"
   ]
  },
  {
   "cell_type": "code",
   "execution_count": 4,
   "metadata": {},
   "outputs": [],
   "source": [
    "import numpy as np\n",
    "import matplotlib.pyplot as plt\n",
    "from sklearn import datasets"
   ]
  },
  {
   "cell_type": "code",
   "execution_count": 5,
   "metadata": {},
   "outputs": [],
   "source": [
    "iris = datasets.load_iris()"
   ]
  },
  {
   "cell_type": "code",
   "execution_count": 54,
   "metadata": {},
   "outputs": [],
   "source": [
    "x = iris.data\n",
    "y = iris.target"
   ]
  },
  {
   "cell_type": "code",
   "execution_count": 55,
   "metadata": {},
   "outputs": [
    {
     "data": {
      "text/plain": [
       "(150, 4)"
      ]
     },
     "execution_count": 55,
     "metadata": {},
     "output_type": "execute_result"
    }
   ],
   "source": [
    "x.shape"
   ]
  },
  {
   "cell_type": "code",
   "execution_count": 56,
   "metadata": {},
   "outputs": [
    {
     "data": {
      "text/plain": [
       "(150,)"
      ]
     },
     "execution_count": 56,
     "metadata": {},
     "output_type": "execute_result"
    }
   ],
   "source": [
    "y.shape"
   ]
  },
  {
   "cell_type": "markdown",
   "metadata": {},
   "source": [
    "# train_test_split"
   ]
  },
  {
   "cell_type": "code",
   "execution_count": 11,
   "metadata": {},
   "outputs": [
    {
     "data": {
      "text/plain": [
       "array([0, 0, 0, 0, 0, 0, 0, 0, 0, 0, 0, 0, 0, 0, 0, 0, 0, 0, 0, 0, 0, 0,\n       0, 0, 0, 0, 0, 0, 0, 0, 0, 0, 0, 0, 0, 0, 0, 0, 0, 0, 0, 0, 0, 0,\n       0, 0, 0, 0, 0, 0, 1, 1, 1, 1, 1, 1, 1, 1, 1, 1, 1, 1, 1, 1, 1, 1,\n       1, 1, 1, 1, 1, 1, 1, 1, 1, 1, 1, 1, 1, 1, 1, 1, 1, 1, 1, 1, 1, 1,\n       1, 1, 1, 1, 1, 1, 1, 1, 1, 1, 1, 1, 2, 2, 2, 2, 2, 2, 2, 2, 2, 2,\n       2, 2, 2, 2, 2, 2, 2, 2, 2, 2, 2, 2, 2, 2, 2, 2, 2, 2, 2, 2, 2, 2,\n       2, 2, 2, 2, 2, 2, 2, 2, 2, 2, 2, 2, 2, 2, 2, 2, 2, 2])"
      ]
     },
     "execution_count": 11,
     "metadata": {},
     "output_type": "execute_result"
    }
   ],
   "source": [
    "y"
   ]
  },
  {
   "cell_type": "markdown",
   "metadata": {},
   "source": [
    "np.random.permutation（x）：随机索引，对x数值以内的所有值，也就是0-（x-1）随机排列"
   ]
  },
  {
   "cell_type": "code",
   "execution_count": 12,
   "metadata": {},
   "outputs": [],
   "source": [
    "shuffle_indexes = np.random.permutation(len(x))"
   ]
  },
  {
   "cell_type": "code",
   "execution_count": 13,
   "metadata": {},
   "outputs": [
    {
     "data": {
      "text/plain": [
       "array([ 52,   1,  49,  98,  15, 132,  63, 140, 102,  37,   9, 113, 133,\n       112,  93,  74, 137, 149, 115,   6, 124,   3,  14,  97,  12,  36,\n        26,  91,  88,  38, 119,  90,  11, 138,  20,  73, 116,  27, 120,\n       142, 141, 136, 106,  57, 123,  84,  30, 129,  31,  70, 101,  50,\n       135,  76,  61,  24, 110,  22,  28, 147,  99,   5,  19,  25,  41,\n        85,  60, 127, 100,  67,  81,  77,  69,  16,  55,  66, 114,  62,\n        40,   2, 121, 103,  17,  71,  64,   7, 144,  51, 107,  87,  82,\n        35, 145,  78,  94, 105,  13, 104, 125,  29,  23,  79,  54,   4,\n        53,  45,  18,  33,  80,   0, 146,  43,  39, 143, 148,  44,  65,\n       139,  56,  58,  21,  83, 118,  47, 109, 122,  34,  10, 108,   8,\n        92,  72, 117, 111,  95, 130,  59,  68,  48,  75,  32,  42, 131,\n       134, 128,  86, 126,  96,  89,  46])"
      ]
     },
     "execution_count": 13,
     "metadata": {},
     "output_type": "execute_result"
    }
   ],
   "source": [
    "shuffle_indexes"
   ]
  },
  {
   "cell_type": "code",
   "execution_count": 15,
   "metadata": {},
   "outputs": [],
   "source": [
    "test_ratio = 0.2\n",
    "test_size = int(len(x)*0.2)"
   ]
  },
  {
   "cell_type": "code",
   "execution_count": 16,
   "metadata": {},
   "outputs": [
    {
     "data": {
      "text/plain": [
       "30"
      ]
     },
     "execution_count": 16,
     "metadata": {},
     "output_type": "execute_result"
    }
   ],
   "source": [
    "test_size"
   ]
  },
  {
   "cell_type": "code",
   "execution_count": 17,
   "metadata": {},
   "outputs": [],
   "source": [
    "test_indexes = shuffle_indexes[:test_size]\n",
    "train_indexes = shuffle_indexes[test_size:]"
   ]
  },
  {
   "cell_type": "code",
   "execution_count": 18,
   "metadata": {},
   "outputs": [],
   "source": [
    "x_train = x[train_indexes]\n",
    "y_train = y[train_indexes]\n",
    "x_test = x[test_indexes]\n",
    "y_test = y[test_indexes]"
   ]
  },
  {
   "cell_type": "code",
   "execution_count": 19,
   "metadata": {},
   "outputs": [
    {
     "data": {
      "text/plain": [
       "(30, 4)"
      ]
     },
     "execution_count": 19,
     "metadata": {},
     "output_type": "execute_result"
    }
   ],
   "source": [
    "x_test.shape"
   ]
  },
  {
   "cell_type": "code",
   "execution_count": 20,
   "metadata": {},
   "outputs": [
    {
     "data": {
      "text/plain": [
       "array([1, 0, 0, 1, 0, 2, 1, 2, 2, 0, 0, 2, 2, 2, 1, 1, 2, 2, 2, 0, 2, 0,\n       0, 1, 0, 0, 0, 1, 1, 0])"
      ]
     },
     "execution_count": 20,
     "metadata": {},
     "output_type": "execute_result"
    }
   ],
   "source": [
    "y_test"
   ]
  },
  {
   "cell_type": "code",
   "execution_count": 21,
   "metadata": {},
   "outputs": [],
   "source": [
    "from collections import Counter"
   ]
  },
  {
   "cell_type": "code",
   "execution_count": 28,
   "metadata": {},
   "outputs": [
    {
     "data": {
      "text/plain": [
       "Counter({0: 12, 1: 8, 2: 10})"
      ]
     },
     "execution_count": 28,
     "metadata": {},
     "output_type": "execute_result"
    }
   ],
   "source": [
    "Counter(y_test)"
   ]
  },
  {
   "cell_type": "markdown",
   "metadata": {},
   "source": [
    "#自己的数据划分算法，未分层"
   ]
  },
  {
   "cell_type": "code",
   "execution_count": 36,
   "metadata": {},
   "outputs": [],
   "source": [
    "%run /home/lds/code/machine-learning/study/KNN/model_selection.py"
   ]
  },
  {
   "cell_type": "code",
   "execution_count": 38,
   "metadata": {},
   "outputs": [
    {
     "data": {
      "text/plain": [
       "(array([[5.7, 3. , 4.2, 1.2],\n        [5.2, 2.7, 3.9, 1.4],\n        [5.9, 3. , 4.2, 1.5],\n        [5.4, 3.9, 1.3, 0.4],\n        [6.2, 2.9, 4.3, 1.3],\n        [4.6, 3.4, 1.4, 0.3],\n        [4.4, 3.2, 1.3, 0.2],\n        [7.2, 3. , 5.8, 1.6],\n        [5.1, 3.5, 1.4, 0.3],\n        [6.3, 2.5, 4.9, 1.5],\n        [5.8, 2.6, 4. , 1.2],\n        [4.8, 3. , 1.4, 0.3],\n        [5. , 3.5, 1.6, 0.6],\n        [6.7, 3. , 5. , 1.7],\n        [6.4, 3.1, 5.5, 1.8],\n        [5.6, 2.7, 4.2, 1.3],\n        [5.3, 3.7, 1.5, 0.2],\n        [5.9, 3.2, 4.8, 1.8],\n        [6.7, 2.5, 5.8, 1.8],\n        [4.9, 3.1, 1.5, 0.1],\n        [5.8, 2.7, 5.1, 1.9],\n        [6.3, 3.3, 6. , 2.5],\n        [5.7, 4.4, 1.5, 0.4],\n        [6.3, 3.4, 5.6, 2.4],\n        [5.9, 3. , 5.1, 1.8],\n        [6.5, 3. , 5.5, 1.8],\n        [5.7, 2.8, 4.1, 1.3],\n        [5.7, 2.5, 5. , 2. ],\n        [5.2, 4.1, 1.5, 0.1],\n        [6.3, 2.3, 4.4, 1.3],\n        [7.3, 2.9, 6.3, 1.8],\n        [5.7, 2.8, 4.5, 1.3],\n        [6.8, 3. , 5.5, 2.1],\n        [7.2, 3.2, 6. , 1.8],\n        [6.3, 2.8, 5.1, 1.5],\n        [4.6, 3.2, 1.4, 0.2],\n        [4.8, 3.4, 1.9, 0.2],\n        [5.1, 3.8, 1.9, 0.4],\n        [6.3, 3.3, 4.7, 1.6],\n        [5. , 3.5, 1.3, 0.3],\n        [5.1, 3.8, 1.5, 0.3],\n        [7.6, 3. , 6.6, 2.1],\n        [5.1, 3.5, 1.4, 0.2],\n        [4.9, 3.1, 1.5, 0.1],\n        [6. , 3.4, 4.5, 1.6],\n        [6.1, 2.6, 5.6, 1.4],\n        [6.7, 3.1, 4.7, 1.5],\n        [5. , 2. , 3.5, 1. ],\n        [6. , 2.9, 4.5, 1.5],\n        [5. , 3.3, 1.4, 0.2],\n        [5.5, 2.4, 3.7, 1. ],\n        [5.5, 3.5, 1.3, 0.2],\n        [6.6, 3. , 4.4, 1.4],\n        [5. , 3.2, 1.2, 0.2],\n        [7.9, 3.8, 6.4, 2. ],\n        [4.3, 3. , 1.1, 0.1],\n        [4.8, 3.1, 1.6, 0.2],\n        [4.9, 2.5, 4.5, 1.7],\n        [6.7, 3.3, 5.7, 2.1],\n        [5.8, 4. , 1.2, 0.2],\n        [6.2, 2.2, 4.5, 1.5],\n        [6.4, 2.7, 5.3, 1.9],\n        [6.1, 2.8, 4.7, 1.2],\n        [6.5, 3. , 5.2, 2. ],\n        [6. , 2.7, 5.1, 1.6],\n        [4.6, 3.1, 1.5, 0.2],\n        [6.3, 2.5, 5. , 1.9],\n        [6.4, 3.2, 4.5, 1.5],\n        [7.7, 3.8, 6.7, 2.2],\n        [6.1, 2.9, 4.7, 1.4],\n        [5. , 3.6, 1.4, 0.2],\n        [5.5, 2.3, 4. , 1.3],\n        [6.9, 3.2, 5.7, 2.3],\n        [5.5, 2.6, 4.4, 1.2],\n        [4.8, 3.4, 1.6, 0.2],\n        [5.7, 2.6, 3.5, 1. ],\n        [4.9, 3. , 1.4, 0.2],\n        [6.4, 2.8, 5.6, 2.1],\n        [6.2, 3.4, 5.4, 2.3],\n        [4.4, 3. , 1.3, 0.2],\n        [5.6, 3. , 4.1, 1.3],\n        [5.6, 2.9, 3.6, 1.3],\n        [6.7, 3.1, 5.6, 2.4],\n        [7.4, 2.8, 6.1, 1.9],\n        [6.8, 3.2, 5.9, 2.3],\n        [5.1, 3.3, 1.7, 0.5],\n        [5.5, 4.2, 1.4, 0.2],\n        [5.6, 2.5, 3.9, 1.1],\n        [6.4, 3.2, 5.3, 2.3],\n        [5.8, 2.8, 5.1, 2.4],\n        [5.4, 3.4, 1.5, 0.4],\n        [6.1, 2.8, 4. , 1.3],\n        [6.7, 3. , 5.2, 2.3],\n        [7.7, 2.6, 6.9, 2.3],\n        [6.5, 3.2, 5.1, 2. ],\n        [6. , 2.2, 5. , 1.5],\n        [7.7, 2.8, 6.7, 2. ],\n        [6.3, 2.9, 5.6, 1.8],\n        [5.4, 3.7, 1.5, 0.2],\n        [5.6, 2.8, 4.9, 2. ],\n        [5. , 3.4, 1.6, 0.4],\n        [5.1, 2.5, 3. , 1.1],\n        [4.4, 2.9, 1.4, 0.2],\n        [6.2, 2.8, 4.8, 1.8],\n        [4.6, 3.6, 1. , 0.2],\n        [5. , 2.3, 3.3, 1. ],\n        [5. , 3.4, 1.5, 0.2],\n        [5.7, 3.8, 1.7, 0.3],\n        [6.7, 3.1, 4.4, 1.4],\n        [6.4, 2.8, 5.6, 2.2],\n        [5.1, 3.8, 1.6, 0.2],\n        [6. , 3. , 4.8, 1.8],\n        [5.8, 2.7, 5.1, 1.9],\n        [5.5, 2.4, 3.8, 1.1],\n        [7.7, 3. , 6.1, 2.3],\n        [4.8, 3. , 1.4, 0.1],\n        [6.1, 3. , 4.9, 1.8],\n        [6.3, 2.7, 4.9, 1.8],\n        [6.1, 3. , 4.6, 1.4],\n        [4.7, 3.2, 1.6, 0.2]]),\n array([1, 1, 1, 0, 1, 0, 0, 2, 0, 1, 1, 0, 0, 1, 2, 1, 0, 1, 2, 0, 2, 2,\n        0, 2, 2, 2, 1, 2, 0, 1, 2, 1, 2, 2, 2, 0, 0, 0, 1, 0, 0, 2, 0, 0,\n        1, 2, 1, 1, 1, 0, 1, 0, 1, 0, 2, 0, 0, 2, 2, 0, 1, 2, 1, 2, 1, 0,\n        2, 1, 2, 1, 0, 1, 2, 1, 0, 1, 0, 2, 2, 0, 1, 1, 2, 2, 2, 0, 0, 1,\n        2, 2, 0, 1, 2, 2, 2, 2, 2, 2, 0, 2, 0, 1, 0, 2, 0, 1, 0, 0, 1, 2,\n        0, 2, 2, 1, 2, 0, 2, 2, 1, 0]),\n array([[5.2, 3.5, 1.5, 0.2],\n        [5.7, 2.9, 4.2, 1.3],\n        [7.2, 3.6, 6.1, 2.5],\n        [6.9, 3.1, 5.4, 2.1],\n        [6.6, 2.9, 4.6, 1.3],\n        [6.5, 3. , 5.8, 2.2],\n        [6.9, 3.1, 4.9, 1.5],\n        [5. , 3. , 1.6, 0.2],\n        [5.6, 3. , 4.5, 1.5],\n        [6.5, 2.8, 4.6, 1.5],\n        [6.4, 2.9, 4.3, 1.3],\n        [5.1, 3.7, 1.5, 0.4],\n        [5.1, 3.4, 1.5, 0.2],\n        [6. , 2.2, 4. , 1. ],\n        [5.8, 2.7, 3.9, 1.2],\n        [5.5, 2.5, 4. , 1.3],\n        [4.9, 2.4, 3.3, 1. ],\n        [5.4, 3.4, 1.7, 0.2],\n        [6.9, 3.1, 5.1, 2.3],\n        [4.5, 2.3, 1.3, 0.3],\n        [7. , 3.2, 4.7, 1.4],\n        [4.7, 3.2, 1.3, 0.2],\n        [5.4, 3.9, 1.7, 0.4],\n        [6.7, 3.3, 5.7, 2.5],\n        [5.8, 2.7, 4.1, 1. ],\n        [5.4, 3. , 4.5, 1.5],\n        [4.9, 3.1, 1.5, 0.1],\n        [6.8, 2.8, 4.8, 1.4],\n        [7.1, 3. , 5.9, 2.1],\n        [5.2, 3.4, 1.4, 0.2]]),\n array([0, 1, 2, 2, 1, 2, 1, 0, 1, 1, 1, 0, 0, 1, 1, 1, 1, 0, 2, 0, 1, 0,\n        0, 2, 1, 1, 0, 1, 2, 0]))"
      ]
     },
     "execution_count": 38,
     "metadata": {},
     "output_type": "execute_result"
    }
   ],
   "source": [
    "train_test_split(x, y)"
   ]
  },
  {
   "cell_type": "code",
   "execution_count": 40,
   "metadata": {},
   "outputs": [],
   "source": [
    "x_train,y_train,x_test,y_test= train_test_split(x, y)"
   ]
  },
  {
   "cell_type": "code",
   "execution_count": 41,
   "metadata": {},
   "outputs": [
    {
     "data": {
      "text/plain": [
       "(120, 4)"
      ]
     },
     "execution_count": 41,
     "metadata": {},
     "output_type": "execute_result"
    }
   ],
   "source": [
    "x_train.shape"
   ]
  },
  {
   "cell_type": "code",
   "execution_count": 43,
   "metadata": {},
   "outputs": [
    {
     "data": {
      "text/plain": [
       "(120,)"
      ]
     },
     "execution_count": 43,
     "metadata": {},
     "output_type": "execute_result"
    }
   ],
   "source": [
    "y_train.shape"
   ]
  },
  {
   "cell_type": "markdown",
   "metadata": {},
   "source": [
    "# sklearn split"
   ]
  },
  {
   "cell_type": "code",
   "execution_count": 2,
   "metadata": {},
   "outputs": [],
   "source": [
    "from sklearn.model_selection import train_test_split"
   ]
  },
  {
   "cell_type": "code",
   "execution_count": 49,
   "metadata": {},
   "outputs": [],
   "source": [
    "x_train,x_test,y_train,y_test= train_test_split(x, y, test_size=0.2)"
   ]
  },
  {
   "cell_type": "code",
   "execution_count": 50,
   "metadata": {},
   "outputs": [
    {
     "data": {
      "text/plain": [
       "array([0, 1, 0, 0, 0, 2, 0, 1, 1, 1, 1, 2, 2, 0, 1, 0, 1, 1, 2, 0, 2, 1,\n       1, 1, 2, 2, 2, 2, 0, 2, 1, 2, 1, 1, 0, 2, 2, 0, 0, 1, 2, 2, 0, 2,\n       2, 0, 2, 0, 0, 1, 1, 1, 2, 2, 0, 1, 0, 2, 1, 0, 0, 1, 2, 0, 2, 2,\n       2, 2, 1, 1, 2, 1, 2, 1, 0, 1, 0, 1, 2, 1, 2, 0, 1, 2, 2, 2, 2, 0,\n       0, 1, 0, 1, 0, 1, 0, 1, 0, 1, 1, 1, 0, 2, 2, 0, 0, 1, 1, 2, 2, 0,\n       0, 2, 1, 2, 1, 1, 0, 1, 1, 1])"
      ]
     },
     "execution_count": 50,
     "metadata": {},
     "output_type": "execute_result"
    }
   ],
   "source": [
    "y_train"
   ]
  },
  {
   "cell_type": "code",
   "execution_count": 51,
   "metadata": {},
   "outputs": [
    {
     "data": {
      "text/plain": [
       "Counter({0: 36, 1: 44, 2: 40})"
      ]
     },
     "execution_count": 51,
     "metadata": {},
     "output_type": "execute_result"
    }
   ],
   "source": [
    "Counter(y_train)"
   ]
  },
  {
   "cell_type": "markdown",
   "metadata": {},
   "source": [
    "# 分层采样"
   ]
  },
  {
   "cell_type": "code",
   "execution_count": 11,
   "metadata": {},
   "outputs": [],
   "source": [
    "v = x\n",
    "w = y"
   ]
  },
  {
   "cell_type": "markdown",
   "metadata": {},
   "source": [
    "train_test_split()参数\n",
    "X:\n",
    "y:\n",
    "test_size：比例\n",
    "train_size：比例\n",
    "stratify：默认None，可指定一个数组分层采样\n",
    "random_state：随机种子\n",
    "shuffle:stratify为None时，shuffle必须为false"
   ]
  },
  {
   "cell_type": "code",
   "execution_count": 13,
   "metadata": {},
   "outputs": [],
   "source": [
    "x_train,x_test,y_train,y_test= train_test_split(v, w, test_size=0.2, stratify=y)"
   ]
  },
  {
   "cell_type": "code",
   "execution_count": 16,
   "metadata": {},
   "outputs": [
    {
     "data": {
      "text/plain": [
       "Counter({0: 50, 1: 50, 2: 50})"
      ]
     },
     "execution_count": 16,
     "metadata": {},
     "output_type": "execute_result"
    }
   ],
   "source": [
    "from collections import  Counter\n",
    "Counter(y)"
   ]
  },
  {
   "cell_type": "markdown",
   "metadata": {},
   "source": [
    "# 交叉验证"
   ]
  },
  {
   "cell_type": "markdown",
   "metadata": {},
   "source": [
    "### 直接计算某个已确定参数的模型其交叉验证分数的方法"
   ]
  },
  {
   "cell_type": "code",
   "execution_count": 21,
   "metadata": {},
   "outputs": [],
   "source": [
    "from sklearn.neighbors import KNeighborsClassifier\n",
    "from sklearn.model_selection import cross_val_score"
   ]
  },
  {
   "cell_type": "code",
   "execution_count": 50,
   "metadata": {},
   "outputs": [],
   "source": [
    "X,Y = datasets.load_breast_cancer(return_X_y=True)"
   ]
  },
  {
   "cell_type": "code",
   "execution_count": 51,
   "metadata": {},
   "outputs": [],
   "source": [
    "clf = KNeighborsClassifier(n_neighbors=6)"
   ]
  },
  {
   "cell_type": "code",
   "execution_count": 52,
   "metadata": {},
   "outputs": [],
   "source": [
    "score = cross_val_score(clf, X, Y, cv=5, scoring=\"accuracy\")"
   ]
  },
  {
   "cell_type": "code",
   "execution_count": 39,
   "metadata": {},
   "outputs": [
    {
     "name": "stdout",
     "output_type": "stream",
     "text": [
      "accuracy:[0.89565217 0.93913043 0.9380531  0.92920354 0.92035398]\n\n"
     ]
    }
   ],
   "source": [
    "print('accuracy:'+str(score)+'\\n')"
   ]
  },
  {
   "cell_type": "code",
   "execution_count": 53,
   "metadata": {},
   "outputs": [
    {
     "data": {
      "text/plain": [
       "array([0.92105263, 0.95238095, 0.95104895, 0.94366197, 0.9352518 ])"
      ]
     },
     "execution_count": 53,
     "metadata": {},
     "output_type": "execute_result"
    }
   ],
   "source": [
    "score = cross_val_score(clf, X, Y, cv=5, scoring=\"f1\")\n",
    "score"
   ]
  },
  {
   "cell_type": "markdown",
   "metadata": {},
   "source": [
    "返回多个评分标准的交叉验证方法"
   ]
  },
  {
   "cell_type": "code",
   "execution_count": 27,
   "metadata": {},
   "outputs": [],
   "source": [
    "from sklearn.model_selection import cross_validate"
   ]
  },
  {
   "cell_type": "code",
   "execution_count": 46,
   "metadata": {},
   "outputs": [],
   "source": [
    "X, Y = datasets.load_breast_cancer(return_X_y=True)"
   ]
  },
  {
   "cell_type": "code",
   "execution_count": 31,
   "metadata": {},
   "outputs": [],
   "source": [
    "scoring = ['accuracy','f1']"
   ]
  },
  {
   "cell_type": "code",
   "execution_count": 48,
   "metadata": {},
   "outputs": [],
   "source": [
    "core = cross_validate(clf,X,Y,scoring=scoring,cv=5,return_train_score=True)"
   ]
  },
  {
   "cell_type": "code",
   "execution_count": 49,
   "metadata": {},
   "outputs": [
    {
     "data": {
      "text/plain": [
       "{'fit_time': array([0.00444818, 0.00063372, 0.00058126, 0.00057387, 0.00074887]),\n 'score_time': array([0.01315928, 0.00350475, 0.00310373, 0.00299096, 0.00281525]),\n 'test_accuracy': array([0.89565217, 0.93913043, 0.9380531 , 0.92920354, 0.92035398]),\n 'test_f1': array([0.92105263, 0.95238095, 0.95104895, 0.94366197, 0.9352518 ]),\n 'train_accuracy': array([0.94933921, 0.94493392, 0.93859649, 0.93421053, 0.94517544]),\n 'train_f1': array([0.96      , 0.95636998, 0.95121951, 0.94755245, 0.95652174])}"
      ]
     },
     "execution_count": 49,
     "metadata": {},
     "output_type": "execute_result"
    }
   ],
   "source": [
    "core"
   ]
  },
  {
   "cell_type": "markdown",
   "metadata": {},
   "source": [
    "### 生成数据集的交叉验证法"
   ]
  },
  {
   "cell_type": "markdown",
   "metadata": {},
   "source": [
    "KFold() 生成器的方式产出每一次交叉验证所需要的训练集和验证集\n",
    "    n_splits:int型，控制k折交叉验证中的k，默认为3\n",
    "    shuffle:bool型，是否在采样前打乱原数据顺序\n",
    "    random_state: 随机种子\n",
    "    方法：split（） 返回：train, test的对应索引\n",
    "          get_n_splits() 返回 k值\n",
    "\n",
    "注：不是分层采样\n",
    "see also : StratifiedKFold() 分层采样，交叉验证\n",
    "           GroupKFold（） "
   ]
  },
  {
   "cell_type": "code",
   "execution_count": 42,
   "metadata": {},
   "outputs": [],
   "source": [
    "from sklearn.model_selection import KFold"
   ]
  },
  {
   "cell_type": "code",
   "execution_count": 57,
   "metadata": {},
   "outputs": [],
   "source": [
    "kf = KFold(n_splits=5)\n"
   ]
  },
  {
   "cell_type": "code",
   "execution_count": 72,
   "metadata": {},
   "outputs": [
    {
     "name": "stdout",
     "output_type": "stream",
     "text": [
      "[ 30  31  32  33  34  35  36  37  38  39  40  41  42  43  44  45  46  47\n  48  49  50  51  52  53  54  55  56  57  58  59  60  61  62  63  64  65\n  66  67  68  69  70  71  72  73  74  75  76  77  78  79  80  81  82  83\n  84  85  86  87  88  89  90  91  92  93  94  95  96  97  98  99 100 101\n 102 103 104 105 106 107 108 109 110 111 112 113 114 115 116 117 118 119\n 120 121 122 123 124 125 126 127 128 129 130 131 132 133 134 135 136 137\n 138 139 140 141 142 143 144 145 146 147 148 149] \n [ 0  1  2  3  4  5  6  7  8  9 10 11 12 13 14 15 16 17 18 19 20 21 22 23\n 24 25 26 27 28 29]\n[  0   1   2   3   4   5   6   7   8   9  10  11  12  13  14  15  16  17\n  18  19  20  21  22  23  24  25  26  27  28  29  60  61  62  63  64  65\n  66  67  68  69  70  71  72  73  74  75  76  77  78  79  80  81  82  83\n  84  85  86  87  88  89  90  91  92  93  94  95  96  97  98  99 100 101\n 102 103 104 105 106 107 108 109 110 111 112 113 114 115 116 117 118 119\n 120 121 122 123 124 125 126 127 128 129 130 131 132 133 134 135 136 137\n 138 139 140 141 142 143 144 145 146 147 148 149] \n [30 31 32 33 34 35 36 37 38 39 40 41 42 43 44 45 46 47 48 49 50 51 52 53\n 54 55 56 57 58 59]\n[  0   1   2   3   4   5   6   7   8   9  10  11  12  13  14  15  16  17\n  18  19  20  21  22  23  24  25  26  27  28  29  30  31  32  33  34  35\n  36  37  38  39  40  41  42  43  44  45  46  47  48  49  50  51  52  53\n  54  55  56  57  58  59  90  91  92  93  94  95  96  97  98  99 100 101\n 102 103 104 105 106 107 108 109 110 111 112 113 114 115 116 117 118 119\n 120 121 122 123 124 125 126 127 128 129 130 131 132 133 134 135 136 137\n 138 139 140 141 142 143 144 145 146 147 148 149] \n [60 61 62 63 64 65 66 67 68 69 70 71 72 73 74 75 76 77 78 79 80 81 82 83\n 84 85 86 87 88 89]\n[  0   1   2   3   4   5   6   7   8   9  10  11  12  13  14  15  16  17\n  18  19  20  21  22  23  24  25  26  27  28  29  30  31  32  33  34  35\n  36  37  38  39  40  41  42  43  44  45  46  47  48  49  50  51  52  53\n  54  55  56  57  58  59  60  61  62  63  64  65  66  67  68  69  70  71\n  72  73  74  75  76  77  78  79  80  81  82  83  84  85  86  87  88  89\n 120 121 122 123 124 125 126 127 128 129 130 131 132 133 134 135 136 137\n 138 139 140 141 142 143 144 145 146 147 148 149] \n [ 90  91  92  93  94  95  96  97  98  99 100 101 102 103 104 105 106 107\n 108 109 110 111 112 113 114 115 116 117 118 119]\n[  0   1   2   3   4   5   6   7   8   9  10  11  12  13  14  15  16  17\n  18  19  20  21  22  23  24  25  26  27  28  29  30  31  32  33  34  35\n  36  37  38  39  40  41  42  43  44  45  46  47  48  49  50  51  52  53\n  54  55  56  57  58  59  60  61  62  63  64  65  66  67  68  69  70  71\n  72  73  74  75  76  77  78  79  80  81  82  83  84  85  86  87  88  89\n  90  91  92  93  94  95  96  97  98  99 100 101 102 103 104 105 106 107\n 108 109 110 111 112 113 114 115 116 117 118 119] \n [120 121 122 123 124 125 126 127 128 129 130 131 132 133 134 135 136 137\n 138 139 140 141 142 143 144 145 146 147 148 149]\n"
     ]
    }
   ],
   "source": [
    "for train, test in kf.split(x):\n",
    "    print(train, '\\n', test)"
   ]
  },
  {
   "cell_type": "code",
   "execution_count": 64,
   "metadata": {},
   "outputs": [],
   "source": [
    "from sklearn.model_selection import StratifiedKFold"
   ]
  },
  {
   "cell_type": "code",
   "execution_count": 65,
   "metadata": {},
   "outputs": [],
   "source": [
    "skf = StratifiedKFold(n_splits=5)"
   ]
  },
  {
   "cell_type": "code",
   "execution_count": 66,
   "metadata": {},
   "outputs": [
    {
     "data": {
      "text/plain": [
       "5"
      ]
     },
     "execution_count": 66,
     "metadata": {},
     "output_type": "execute_result"
    }
   ],
   "source": [
    "skf.get_n_splits(X)"
   ]
  },
  {
   "cell_type": "code",
   "execution_count": 73,
   "metadata": {},
   "outputs": [
    {
     "name": "stdout",
     "output_type": "stream",
     "text": [
      "Counter({1: 357, 0: 212})\nCounter({1: 285, 0: 169})\nCounter({1: 285, 0: 169})\nCounter({1: 286, 0: 170})\nCounter({1: 286, 0: 170})\nCounter({1: 286, 0: 170})\n"
     ]
    }
   ],
   "source": [
    "print(Counter(Y))\n",
    "for train, test in skf.split(X, Y):\n",
    "    train_y = Y[train]\n",
    "    print(Counter(train_y))"
   ]
  },
  {
   "cell_type": "markdown",
   "metadata": {},
   "source": [
    "其他数据划分方法：\n",
    "    留一法：LeaveOneOut()\n",
    "    留出法：LeavePOut()\n",
    "    时间序列的数据划分法：TimeSeriesSplit（）"
   ]
  },
  {
   "cell_type": "code",
   "execution_count": null,
   "metadata": {},
   "outputs": [],
   "source": []
  }
 ],
 "metadata": {
  "kernelspec": {
   "display_name": "Python 2",
   "language": "python",
   "name": "python2"
  },
  "language_info": {
   "codemirror_mode": {
    "name": "ipython",
    "version": 2
   },
   "file_extension": ".py",
   "mimetype": "text/x-python",
   "name": "python",
   "nbconvert_exporter": "python",
   "pygments_lexer": "ipython2",
   "version": "2.7.6"
  }
 },
 "nbformat": 4,
 "nbformat_minor": 0
}
